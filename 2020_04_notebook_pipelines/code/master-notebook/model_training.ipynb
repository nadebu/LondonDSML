{
 "cells": [
  {
   "cell_type": "markdown",
   "metadata": {},
   "source": [
    "# Model training"
   ]
  },
  {
   "cell_type": "code",
   "execution_count": 1,
   "metadata": {},
   "outputs": [],
   "source": [
    "import csv\n",
    "\n",
    "import numpy as np\n",
    "\n",
    "from sklearn import tree\n",
    "from joblib import dump\n",
    "\n",
    "import os"
   ]
  },
  {
   "cell_type": "code",
   "execution_count": 17,
   "metadata": {},
   "outputs": [],
   "source": [
    "def get_int_argument(env_var):\n",
    "  ret_val = None\n",
    "  if env_var in os.environ:\n",
    "    if os.environ[env_var] != \"None\":\n",
    "        try:\n",
    "          ret_val = int(os.environ[env_var])\n",
    "        except ValueError:\n",
    "          print(\"Argument is not integer or None\")\n",
    "    \n",
    "  return ret_val\n",
    "\n",
    "tree_max_depth = get_int_argument(\"tree_max_depth\")\n",
    "tree_min_samples_split = get_int_argument(\"tree_min_samples_split\")\n",
    "tree_min_samples_leaf = get_int_argument(\"tree_min_samples_leaf\")\n",
    "\n",
    "if tree_min_samples_split == None:\n",
    "    tree_min_samples_split = 2\n",
    "    \n",
    "if tree_min_samples_leaf == None:\n",
    "    tree_min_samples_leaf = 1\n",
    "\n",
    "print(\"tree_max_depth: \", tree_max_depth)\n",
    "print(\"tree_min_samples_split: \", tree_min_samples_split)\n",
    "print(\"tree_min_samples_leaf: \", tree_min_samples_leaf)"
   ]
  },
  {
   "cell_type": "code",
   "execution_count": 18,
   "metadata": {},
   "outputs": [],
   "source": [
    "train_np = np.loadtxt(\"train.csv\", delimiter=',', skiprows=1)"
   ]
  },
  {
   "cell_type": "code",
   "execution_count": 19,
   "metadata": {},
   "outputs": [],
   "source": [
    "with open(\"train.csv\", newline='') as f:\n",
    "  reader = csv.reader(f)\n",
    "  header = next(reader)"
   ]
  },
  {
   "cell_type": "code",
   "execution_count": 20,
   "metadata": {},
   "outputs": [],
   "source": [
    "x = train_np[:,:-1]\n",
    "y = train_np[:,-1]"
   ]
  },
  {
   "cell_type": "code",
   "execution_count": 21,
   "metadata": {},
   "outputs": [],
   "source": [
    "print(\"... training ...\")\n",
    "clf = tree.DecisionTreeClassifier(max_depth=tree_max_depth,\n",
    "                                  min_samples_split=tree_min_samples_split,\n",
    "                                  min_samples_leaf=tree_min_samples_leaf)\n",
    "clf = clf.fit(x, y)"
   ]
  },
  {
   "cell_type": "code",
   "execution_count": 26,
   "metadata": {},
   "outputs": [
    {
     "data": {
      "text/plain": [
       "['model.joblib']"
      ]
     },
     "execution_count": 26,
     "metadata": {},
     "output_type": "execute_result"
    }
   ],
   "source": [
    "dump(clf, \"model.joblib\") "
   ]
  },
  {
   "cell_type": "code",
   "execution_count": null,
   "metadata": {},
   "outputs": [],
   "source": [
    "print(\"Model saved.\")"
   ]
  }
 ],
 "metadata": {
  "kernelspec": {
   "display_name": "Python 3",
   "language": "python",
   "name": "python3"
  },
  "language_info": {
   "codemirror_mode": {
    "name": "ipython",
    "version": 3
   },
   "file_extension": ".py",
   "mimetype": "text/x-python",
   "name": "python",
   "nbconvert_exporter": "python",
   "pygments_lexer": "ipython3",
   "version": "3.6.8"
  }
 },
 "nbformat": 4,
 "nbformat_minor": 2
}
